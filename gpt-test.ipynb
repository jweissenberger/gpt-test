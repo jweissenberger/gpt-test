{
 "cells": [
  {
   "cell_type": "markdown",
   "id": "eba205b3-065b-4e5e-94ad-5e7c509f42e7",
   "metadata": {},
   "source": [
    "# GPT ideas"
   ]
  },
  {
   "cell_type": "code",
   "execution_count": 1,
   "id": "c87f2f56-2d66-4b1e-be4e-808e5b35046b",
   "metadata": {},
   "outputs": [],
   "source": [
    "from transformers import pipeline"
   ]
  },
  {
   "cell_type": "code",
   "execution_count": 4,
   "id": "f2cad2f5-d832-49bd-a4b0-364670a347d7",
   "metadata": {},
   "outputs": [],
   "source": [
    "import time"
   ]
  },
  {
   "cell_type": "code",
   "execution_count": 5,
   "id": "a38f6268-44b7-4f7f-a01f-12a9b6753233",
   "metadata": {},
   "outputs": [
    {
     "name": "stderr",
     "output_type": "stream",
     "text": [
      "Setting `pad_token_id` to `eos_token_id`:50256 for open-end generation.\n"
     ]
    },
    {
     "name": "stdout",
     "output_type": "stream",
     "text": [
      "The meaning of life is so utterly different from our own, I do not think we should try to understand it. But I think we should try to be the person we want to be, to want meaning.\n",
      "\n",
      "Tuesday, June 15, 2006\n",
      "\n",
      "Inference Time 14.163287162780762 seconds\n"
     ]
    }
   ],
   "source": [
    "# this is why we need GPUs, GPT-J (6 billion parameters would take like a full minute)\n",
    "generator = pipeline('text-generation', model='EleutherAI/gpt-neo-1.3B')\n",
    "a = time.time()s\n",
    "print(generator(\"The meaning of life is\", min_length=50, temperature=0.9)[0]['generated_text'])\n",
    "b = time.time()\n",
    "print(f\"\\nInference Time {b-a} seconds\")"
   ]
  },
  {
   "cell_type": "code",
   "execution_count": 6,
   "id": "9dbf7823-8fb3-4c0c-a2c5-57efc6550642",
   "metadata": {},
   "outputs": [
    {
     "name": "stderr",
     "output_type": "stream",
     "text": [
      "Setting `pad_token_id` to `eos_token_id`:50256 for open-end generation.\n"
     ]
    },
    {
     "name": "stdout",
     "output_type": "stream",
     "text": [
      "The meaning of life is not always clear. Life is not always a matter of being alive, but\n",
      "\n",
      "Inference Time 0.6523211002349854 seconds\n"
     ]
    }
   ],
   "source": [
    "generator = pipeline('text-generation', model='EleutherAI/gpt-neo-125M')\n",
    "a = time.time()\n",
    "print(generator(\"The meaning of life is\", min_length=50, temperature=0.9)[0]['generated_text'])\n",
    "b = time.time()\n",
    "print(f\"\\nInference Time {b-a} seconds\")"
   ]
  },
  {
   "cell_type": "code",
   "execution_count": 7,
   "id": "2586a3d6-eb14-417e-a537-3ec0c24d0f1c",
   "metadata": {},
   "outputs": [
    {
     "name": "stderr",
     "output_type": "stream",
     "text": [
      "Setting `pad_token_id` to `eos_token_id`:50256 for open-end generation.\n"
     ]
    },
    {
     "name": "stdout",
     "output_type": "stream",
     "text": [
      "The meaning of life is self: for the soul, God only knows He exists to whom He will be. Therefore for the soul, He will not be the same God as before.\n",
      "\n",
      "4. This is my main teaching.\n",
      "\n",
      "For\n",
      "\n",
      "Inference Time 1.877897024154663 seconds\n"
     ]
    }
   ],
   "source": [
    "generator = pipeline('text-generation', model='gpt2')\n",
    "a = time.time()\n",
    "print(generator(\"The meaning of life is\", min_length=50, temperature=0.9)[0]['generated_text'])\n",
    "b = time.time()\n",
    "print(f\"\\nInference Time {b-a} seconds\")"
   ]
  },
  {
   "cell_type": "code",
   "execution_count": 10,
   "id": "e12051bd-4138-482a-912e-6e7b55f1c588",
   "metadata": {},
   "outputs": [
    {
     "name": "stderr",
     "output_type": "stream",
     "text": [
      "Setting `pad_token_id` to `eos_token_id`:50256 for open-end generation.\n"
     ]
    },
    {
     "name": "stdout",
     "output_type": "stream",
     "text": [
      "What is the meaning of life? ive been told it's a game of life. Life is\n",
      "\n",
      "Inference Time 1.1461420059204102 seconds\n"
     ]
    }
   ],
   "source": [
    "generator = pipeline('text-generation', model='microsoft/DialoGPT-medium')\n",
    "a = time.time()\n",
    "print(generator(\"What is the meaning of life? \", min_length=50, temperature=0.9)[0]['generated_text'])\n",
    "b = time.time()\n",
    "print(f\"\\nInference Time {b-a} seconds\")"
   ]
  },
  {
   "cell_type": "code",
   "execution_count": 11,
   "id": "3a32715e-7e9a-470a-b12f-fde5381dc9e4",
   "metadata": {},
   "outputs": [
    {
     "name": "stderr",
     "output_type": "stream",
     "text": [
      "Setting `pad_token_id` to `eos_token_id`:50256 for open-end generation.\n"
     ]
    },
    {
     "name": "stdout",
     "output_type": "stream",
     "text": [
      "What is the meaning of life? ive never understood it. I just want to be happy.\n",
      "\n",
      "Inference Time 0.494826078414917 seconds\n"
     ]
    }
   ],
   "source": [
    "generator = pipeline('text-generation', model='microsoft/DialoGPT-small')\n",
    "a = time.time()\n",
    "print(generator(\"What is the meaning of life? \", min_length=50, temperature=0.9)[0]['generated_text'])\n",
    "b = time.time()\n",
    "print(f\"\\nInference Time {b-a} seconds\")"
   ]
  },
  {
   "cell_type": "code",
   "execution_count": null,
   "id": "96bcf8c7-0e0e-4f70-8051-db9755849c99",
   "metadata": {},
   "outputs": [],
   "source": []
  }
 ],
 "metadata": {
  "kernelspec": {
   "display_name": "Python 3 (ipykernel)",
   "language": "python",
   "name": "python3"
  },
  "language_info": {
   "codemirror_mode": {
    "name": "ipython",
    "version": 3
   },
   "file_extension": ".py",
   "mimetype": "text/x-python",
   "name": "python",
   "nbconvert_exporter": "python",
   "pygments_lexer": "ipython3",
   "version": "3.7.11"
  }
 },
 "nbformat": 4,
 "nbformat_minor": 5
}
